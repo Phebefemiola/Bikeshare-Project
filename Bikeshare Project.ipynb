{
 "cells": [
  {
   "cell_type": "code",
   "execution_count": 1,
   "id": "0371609f",
   "metadata": {},
   "outputs": [],
   "source": [
    "import pandas as pd\n",
    "import numpy as np\n",
    "import time "
   ]
  },
  {
   "cell_type": "code",
   "execution_count": 2,
   "id": "6144ec68",
   "metadata": {},
   "outputs": [],
   "source": [
    "CITY_DATA = {'chicago': 'chicago.csv',\n",
    "             'new york city': 'new_york_city.csv',\n",
    "             'washington': 'washington.csv'}"
   ]
  },
  {
   "cell_type": "code",
   "execution_count": 3,
   "id": "8181413b",
   "metadata": {},
   "outputs": [],
   "source": [
    " #To asks user to specify a city, month, and day to analyze\n",
    "\n",
    "def get_filters():\n",
    "    \n",
    "    print('Hello! Let\\'s explore some US bikeshare data!')\n",
    "    \n",
    "  #To get user input for city (chicago, new york city, washington)  \n",
    "    while True:\n",
    "        cities = ['chicago', 'new york city', 'washington']\n",
    "        city = input('\\n Which city would you like to analyse? (chicago, new york city, washington)\\n').lower()\n",
    "        if city in cities:\n",
    "            break\n",
    "        else:\n",
    "            print('\\n Please enter a valid city name')\n",
    "            \n",
    "   #To get user input for month (all, january, february, ... , june)         \n",
    "    while True:\n",
    "        months = ['january','february','march','april','may','june','all']\n",
    "        month = input(\"\\n Which month would you like to consider? (january,february,march,april,may,june) Type 'all' to apply no month filter \\n\").lower()\n",
    "        if month in months:\n",
    "            break\n",
    "        else:\n",
    "            print('\\n please enter a valid month')\n",
    "            \n",
    "   #To get user input for day of week (all, monday, tuesday, ... sunday)         \n",
    "    while True:\n",
    "        days = ['monday', 'tuesday', 'wednesday', 'thursday', 'friday', 'saturday', 'sunday', 'all']\n",
    "        day = input(\"\\n Which day of the week would like to see? (monday, tuesday, wednesday, thursday, friday, saturday, sunday) Type 'all' to apply no day filter \\n\").lower()\n",
    "        if day in days:\n",
    "            break\n",
    "        else:\n",
    "            print('\\n please enter a valid day of the week')\n",
    "            \n",
    "    print('-'*50)\n",
    "    return city, month, day"
   ]
  },
  {
   "cell_type": "code",
   "execution_count": 4,
   "id": "20d509c2",
   "metadata": {},
   "outputs": [
    {
     "name": "stdout",
     "output_type": "stream",
     "text": [
      "Hello! Let's explore some US bikeshare data!\n",
      "\n",
      " Which city would you like to analyse? (chicago, new york city, washington)\n",
      "chicago\n",
      "\n",
      " Which month would you like to consider? (january,february,march,april,may,june) Type 'all' to apply no month filter \n",
      "april\n",
      "\n",
      " Which day of the week would like to see? (monday, tuesday, wednesday, thursday, friday, saturday, sunday) Type 'all' to apply no day filter \n",
      "friday\n",
      "--------------------------------------------------\n"
     ]
    }
   ],
   "source": [
    "selected_values = get_filters()\n",
    "\n",
    "selected_city = selected_values[0]\n",
    "selected_month = selected_values[1]\n",
    "selected_day = selected_values[2]"
   ]
  },
  {
   "cell_type": "code",
   "execution_count": 5,
   "id": "4a04629c",
   "metadata": {},
   "outputs": [],
   "source": [
    "def load_data(city, month, day):\n",
    "    \n",
    "  #Loads data for the specified city and filters by month and day if applicable. \n",
    "\n",
    "    df = pd.read_csv(CITY_DATA[city])\n",
    "    \n",
    "    #To convert the Start Time column to datetime\n",
    "    \n",
    "    df['Start Time'] = pd.to_datetime(df['Start Time'])\n",
    "    \n",
    "    #extract month and day of week from Start Time to create new columns \n",
    "    df['month'] = df['Start Time'].dt.month\n",
    "    df['day_of_week'] = df['Start Time'].dt.weekday\n",
    "    \n",
    "    #filter by month \n",
    "    if month != 'all':\n",
    "        months = ['january', 'february', 'march', 'april', 'may', 'june']\n",
    "        month = months.index(month) + 1\n",
    "     #filter by month to create the new dataframe\n",
    "        df = df[df['month'] == month]\n",
    "        \n",
    "    #filter by day\n",
    "    if day != 'all':\n",
    "        days = ['monday', 'tuesday', 'wednesday', 'thursday', 'friday', 'saturday', 'sunday']\n",
    "        day = days.index(day) + 1\n",
    "        \n",
    "        df = df[df['day_of_week'] == day]\n",
    "    return df"
   ]
  },
  {
   "cell_type": "code",
   "execution_count": 19,
   "id": "efb3cedb",
   "metadata": {},
   "outputs": [],
   "source": [
    "df = load_data(selected_city, selected_month, selected_day)"
   ]
  },
  {
   "cell_type": "code",
   "execution_count": 7,
   "id": "393e3404",
   "metadata": {
    "scrolled": true
   },
   "outputs": [],
   "source": [
    "def time_stats(df):\n",
    "    \n",
    "  #Displays statistics on the most frequent times of travel.\n",
    "\n",
    "    print('\\nCalculating The Most Frequent Times of Travel.')  \n",
    "    \n",
    "    start_time = time.time()\n",
    "        \n",
    "    #initialize\n",
    "    df['month'] = df['Start Time'].dt.month\n",
    "    df['day'] = df['Start Time'].dt.weekday\n",
    "    df['hour'] = df['Start Time'].dt.hour\n",
    "    \n",
    "    #To display the most common month\n",
    "    \n",
    "    com_month = df['month'].mode()[0]\n",
    "    months = ['january', 'february', 'march', 'april', 'may', 'june']\n",
    "    print(\"The most Popular month is:\", months[com_month-1])\n",
    "        \n",
    "    #To display the most common day of the week\n",
    "    \n",
    "    com_day = df['day'].mode()[0]\n",
    "    days= ['monday','tuesday','wednesday','thursday','friday','saturday','sunday','all']\n",
    "    print(\"The most common day of the week is:\",days[com_day-1])\n",
    "    \n",
    "    #display the most common start hour\n",
    "    com_start_hour = df['hour'].mode()[0]\n",
    "    print(\"The most common Start Hour is {}:00 hrs\".format(com_start_hour))\n",
    "    \n",
    "    print(\"\\nThis took %s seconds.\" % (time.time() - start_time))\n",
    "    print('-'*40)"
   ]
  },
  {
   "cell_type": "code",
   "execution_count": 8,
   "id": "3f8f9e12",
   "metadata": {},
   "outputs": [
    {
     "name": "stdout",
     "output_type": "stream",
     "text": [
      "\n",
      "Calculating The Most Frequent Times of Travel.\n",
      "The most Popular month is: april\n",
      "The most common day of the week is: friday\n",
      "The most common Start Hour is 14:00 hrs\n",
      "\n",
      "This took 0.011999368667602539 seconds.\n",
      "----------------------------------------\n"
     ]
    }
   ],
   "source": [
    "time_stats(df)"
   ]
  },
  {
   "cell_type": "code",
   "execution_count": 9,
   "id": "4edc5879",
   "metadata": {},
   "outputs": [],
   "source": [
    "def station_stats(df):\n",
    "    #Displays statistics on the most popular stations and trip.\n",
    "\n",
    "    print('\\nCalculating The Most Popular Stations and Trip...\\n')\n",
    "    \n",
    "    start_time = time.time()\n",
    "\n",
    "    # To display most commonly used start station\n",
    "    most_com_start_station = df['Start Station'].mode()[0]\n",
    "    print(\"The most commonly used Start Station is: {}\".format(most_com_start_station))\n",
    "\n",
    "    # To display most commonly used end station\n",
    "    most_com_end_station = df['End Station'].mode()[0]\n",
    "    print(\"The most commonly used End Station is: {}\".format(most_com_end_station))\n",
    "\n",
    "    # To display most frequent combination of start station and end station trip\n",
    "    start_to_finish = df['Start Station']+\" to \"+df['End Station']\n",
    "    most_com_trip_from_start_to_end = start_to_finish.mode()[0]\n",
    "    print(\"The most frequent combination of start and end Station is: {} \".format(most_com_trip_from_start_to_end))\n",
    "\n",
    "    print(\"\\nThis took %s seconds.\" % (time.time() - start_time))\n",
    "    print('-'*40)"
   ]
  },
  {
   "cell_type": "code",
   "execution_count": 10,
   "id": "b7134863",
   "metadata": {},
   "outputs": [
    {
     "name": "stdout",
     "output_type": "stream",
     "text": [
      "\n",
      "Calculating The Most Popular Stations and Trip...\n",
      "\n",
      "The most commonly used Start Station is: Streeter Dr & Grand Ave\n",
      "The most commonly used End Station is: Streeter Dr & Grand Ave\n",
      "The most frequent combination of start and end Station is: Streeter Dr & Grand Ave to Streeter Dr & Grand Ave \n",
      "\n",
      "This took 0.012000322341918945 seconds.\n",
      "----------------------------------------\n"
     ]
    }
   ],
   "source": [
    "station_stats(df)"
   ]
  },
  {
   "cell_type": "code",
   "execution_count": 11,
   "id": "c2f800c0",
   "metadata": {},
   "outputs": [],
   "source": [
    "#Helper function to convert seconds to day, hour, minute, and seconds\n",
    "\n",
    "def secondsToText(secs):\n",
    "    days = secs//86400\n",
    "    hours = (secs - days*86400)//3600\n",
    "    minutes = (secs - days*86400 - hours*3600)//60\n",
    "    seconds = secs - days*86400 - hours*3600 - minutes*60\n",
    "    result = (\"{0} day{1}, \".format(days, \"s\" if days!=1 else \"\") if days else \"\") + \\\n",
    "    (\"{0} hour{1}, \".format(hours, \"s\" if hours!=1 else \"\") if hours else \"\") + \\\n",
    "    (\"{0} minute{1}, \".format(minutes, \"s\" if minutes!=1 else \"\") if minutes else \"\") + \\\n",
    "    (\"{0} second{1}. \".format(seconds, \"s\" if seconds!=1 else \"\") if seconds else \"\")\n",
    "    return result"
   ]
  },
  {
   "cell_type": "code",
   "execution_count": 12,
   "id": "d73ef2ac",
   "metadata": {},
   "outputs": [],
   "source": [
    "def trip_duration_stats(df):\n",
    "   #Displays statistics on the total and average trip duration.\n",
    "\n",
    "    print('\\nCalculating Trip Duration...\\n')\n",
    "    start_time = time.time()\n",
    "\n",
    "    #To display total travel time\n",
    "    total_travel_duration = df['Trip Duration'].sum()\n",
    "    print ('Total Travel Time: ', secondsToText(total_travel_duration))\n",
    "\n",
    "    # To display mean travel time\n",
    "    average_travel_duration = df['Trip Duration'].mean()\n",
    "    print ('Average Travel Time: ', secondsToText(average_travel_duration))\n",
    "\n",
    "    print(\"\\nThis took %s seconds.\" % (time.time() - start_time))\n",
    "    print('-'*40)\n",
    "    "
   ]
  },
  {
   "cell_type": "code",
   "execution_count": 13,
   "id": "05df5ed8",
   "metadata": {},
   "outputs": [
    {
     "name": "stdout",
     "output_type": "stream",
     "text": [
      "\n",
      "Calculating Trip Duration...\n",
      "\n",
      "Total Travel Time:  141 days, 10 hours, 46 minutes, 53 seconds. \n",
      "Average Travel Time:  22.0 minutes, 15.797682806864032 seconds. \n",
      "\n",
      "This took 0.004606723785400391 seconds.\n",
      "----------------------------------------\n"
     ]
    }
   ],
   "source": [
    "trip_duration_stats(df)"
   ]
  },
  {
   "cell_type": "code",
   "execution_count": 14,
   "id": "89663408",
   "metadata": {},
   "outputs": [],
   "source": [
    "def user_stats(df, city):\n",
    "    \"\"\"Displays statistics on bikeshare users.\"\"\"\n",
    "\n",
    "    print('\\nCalculating User Stats...\\n')\n",
    "    start_time = time.time()\n",
    "\n",
    "    # To display counts of user types\n",
    "    total_user_types = df['User Type'].value_counts()\n",
    "    print(\"\\nThe user types are:\\n\",total_user_types)\n",
    "          \n",
    "     # To display counts of gender\n",
    "    if city.lower() != 'washington':\n",
    "        gender_counts = df['Gender'].value_counts()\n",
    "        print('\\nThe counts of gender are:\\n', gender_counts)\n",
    "            \n",
    "     #Display earliest, most recent, and most common year of birth\n",
    "    earliest_year = int(df['Birth Year'].min())\n",
    "    print('\\nThe oldest user was born in year ', earliest_year)\n",
    "    \n",
    "    most_recent_year = int(df['Birth Year'].max())\n",
    "    print('\\nThe youngest user was born in year ', most_recent_year)\n",
    "    \n",
    "    most_common_year = int(df['Birth Year'].mode()[0])\n",
    "    print('\\nMost users were born in year ', most_common_year)\n",
    "\n",
    "    print(\"\\nThis took %s seconds.\" % (time.time() - start_time))\n",
    "    print('-'*40)"
   ]
  },
  {
   "cell_type": "code",
   "execution_count": 15,
   "id": "191b1233",
   "metadata": {},
   "outputs": [
    {
     "name": "stdout",
     "output_type": "stream",
     "text": [
      "\n",
      "Calculating User Stats...\n",
      "\n",
      "\n",
      "The user types are:\n",
      " Subscriber    5043\n",
      "Customer      4106\n",
      "Name: User Type, dtype: int64\n",
      "\n",
      "The counts of gender are:\n",
      " Male      3493\n",
      "Female    1552\n",
      "Name: Gender, dtype: int64\n",
      "\n",
      "The oldest user was born in year  1921\n",
      "\n",
      "The youngest user was born in year  2000\n",
      "\n",
      "Most users were born in year  1989\n",
      "\n",
      "This took 0.01055908203125 seconds.\n",
      "----------------------------------------\n"
     ]
    }
   ],
   "source": [
    "user_stats(df, 'chicago')"
   ]
  },
  {
   "cell_type": "code",
   "execution_count": 16,
   "id": "f4c85939",
   "metadata": {},
   "outputs": [],
   "source": [
    "def show_raw_data(df):\n",
    "    \n",
    "    while True:\n",
    "        view_data = input(\"\\nWould you like to see the raw data? for 'yes' enter 'y' and for 'no' enter 'n'.\\n\").lower()\n",
    "        if view_data == \"y\":\n",
    "            start_loc = 0\n",
    "            while True:\n",
    "                print(df.iloc[start_loc:start_loc + 5])\n",
    "                start_loc += 5\n",
    "                view_more = input(\"Do you wish to see more? for 'yes' enter 'y' and for 'no' enter 'n'.\\n\").lower()\n",
    "                if view_more == \"y\":\n",
    "                    continue\n",
    "                elif view_more == \"n\":\n",
    "                    print(\"Thank You!\")\n",
    "                    break\n",
    "                else:\n",
    "                    #validate user input\n",
    "                    while view_more != \"y\" and view_more != \"n\":\n",
    "                        print(\"Sorry! You entered Wrong Input, Kindly try Again!\")\n",
    "                        view_more = input(\"Do you wish to see more? for 'yes' enter 'y' and for 'no' enter 'n'.\\n\").lower()   \n",
    "            \n",
    "        elif view_data == \"n\":\n",
    "            print (\"Exiting...\")\n",
    "            print (\"Thanks!!\")\n",
    "            break\n",
    "            \n",
    "        else:\n",
    "            print(\"Sorry! You entered Wrong Input, Kindly try Again!\\n\") \n",
    "                "
   ]
  },
  {
   "cell_type": "code",
   "execution_count": 17,
   "id": "ca77e4a0",
   "metadata": {},
   "outputs": [
    {
     "name": "stdout",
     "output_type": "stream",
     "text": [
      "\n",
      "Would you like to see the raw data? for 'yes' enter 'y' and for 'no' enter 'n'.\n",
      "y\n",
      "     Unnamed: 0          Start Time             End Time  Trip Duration  \\\n",
      "19       475456 2017-04-08 11:37:55  2017-04-08 11:51:55            840   \n",
      "50       629006 2017-04-22 19:12:25  2017-04-22 19:15:41            196   \n",
      "57       697597 2017-04-29 09:46:00  2017-04-29 10:14:37           1717   \n",
      "116      555503 2017-04-15 19:21:28  2017-04-15 19:33:45            737   \n",
      "152      543142 2017-04-15 11:38:34  2017-04-15 14:49:56          11482   \n",
      "\n",
      "                      Start Station                   End Station   User Type  \\\n",
      "19                Adler Planetarium                Burnham Harbor    Customer   \n",
      "50        Clark St & Wellington Ave    Halsted St & Diversey Pkwy  Subscriber   \n",
      "57               Clark St & Lake St     Ashland Ave & Division St  Subscriber   \n",
      "116  Southport Ave & Wrightwood Ave  Southport Ave & Waveland Ave  Subscriber   \n",
      "152           State St & Pearson St         State St & Pearson St    Customer   \n",
      "\n",
      "     Gender  Birth Year  month  day_of_week  day  hour  \n",
      "19      NaN         NaN      4            5    5    11  \n",
      "50     Male      1988.0      4            5    5    19  \n",
      "57   Female      1986.0      4            5    5     9  \n",
      "116  Female      1983.0      4            5    5    19  \n",
      "152     NaN         NaN      4            5    5    11  \n",
      "Do you wish to see more? for 'yes' enter 'y' and for 'no' enter 'n'.\n",
      "n\n",
      "Thank You!\n",
      "\n",
      "Would you like to see the raw data? for 'yes' enter 'y' and for 'no' enter 'n'.\n",
      "n\n",
      "Exiting...\n",
      "Thanks!!\n"
     ]
    }
   ],
   "source": [
    "show_raw_data(df)"
   ]
  },
  {
   "cell_type": "code",
   "execution_count": 18,
   "id": "c8f46b55",
   "metadata": {
    "scrolled": true
   },
   "outputs": [
    {
     "name": "stdout",
     "output_type": "stream",
     "text": [
      "Hello! Let's explore some US bikeshare data!\n",
      "\n",
      " Which city would you like to analyse? (chicago, new york city, washington)\n",
      "chicago\n",
      "\n",
      " Which month would you like to consider? (january,february,march,april,may,june) Type 'all' to apply no month filter \n",
      "all\n",
      "\n",
      " Which day of the week would like to see? (monday, tuesday, wednesday, thursday, friday, saturday, sunday) Type 'all' to apply no day filter \n",
      "all\n",
      "--------------------------------------------------\n",
      "\n",
      "Calculating The Most Frequent Times of Travel.\n",
      "The most Popular month is: june\n",
      "The most common day of the week is: monday\n",
      "The most common Start Hour is 17:00 hrs\n",
      "\n",
      "This took 0.055886268615722656 seconds.\n",
      "----------------------------------------\n",
      "\n",
      "Calculating The Most Popular Stations and Trip...\n",
      "\n",
      "The most commonly used Start Station is: Streeter Dr & Grand Ave\n",
      "The most commonly used End Station is: Streeter Dr & Grand Ave\n",
      "The most frequent combination of start and end Station is: Lake Shore Dr & Monroe St to Streeter Dr & Grand Ave \n",
      "\n",
      "This took 0.20801639556884766 seconds.\n",
      "----------------------------------------\n",
      "\n",
      "Calculating Trip Duration...\n",
      "\n",
      "Total Travel Time:  3250 days, 19 hours, 56 minutes, 27 seconds. \n",
      "Average Travel Time:  15.0 minutes, 36.23928999999998 seconds. \n",
      "\n",
      "This took 0.0029973983764648438 seconds.\n",
      "----------------------------------------\n",
      "\n",
      "Calculating User Stats...\n",
      "\n",
      "\n",
      "The user types are:\n",
      " Subscriber    238889\n",
      "Customer       61110\n",
      "Dependent          1\n",
      "Name: User Type, dtype: int64\n",
      "\n",
      "The counts of gender are:\n",
      " Male      181190\n",
      "Female     57758\n",
      "Name: Gender, dtype: int64\n",
      "\n",
      "The oldest user was born in year  1899\n",
      "\n",
      "The youngest user was born in year  2016\n",
      "\n",
      "Most users were born in year  1989\n",
      "\n",
      "This took 0.06718873977661133 seconds.\n",
      "----------------------------------------\n",
      "\n",
      "Would you like to see the raw data? for 'yes' enter 'y' and for 'no' enter 'n'.\n",
      "y\n",
      "   Unnamed: 0          Start Time             End Time  Trip Duration  \\\n",
      "0     1423854 2017-06-23 15:09:32  2017-06-23 15:14:53            321   \n",
      "1      955915 2017-05-25 18:19:03  2017-05-25 18:45:53           1610   \n",
      "2        9031 2017-01-04 08:27:49  2017-01-04 08:34:45            416   \n",
      "3      304487 2017-03-06 13:49:38  2017-03-06 13:55:28            350   \n",
      "4       45207 2017-01-17 14:53:07  2017-01-17 15:02:01            534   \n",
      "\n",
      "                   Start Station                   End Station   User Type  \\\n",
      "0           Wood St & Hubbard St       Damen Ave & Chicago Ave  Subscriber   \n",
      "1            Theater on the Lake  Sheffield Ave & Waveland Ave  Subscriber   \n",
      "2             May St & Taylor St           Wood St & Taylor St  Subscriber   \n",
      "3  Christiana Ave & Lawrence Ave  St. Louis Ave & Balmoral Ave  Subscriber   \n",
      "4         Clark St & Randolph St  Desplaines St & Jackson Blvd  Subscriber   \n",
      "\n",
      "   Gender  Birth Year  month  day_of_week  day  hour  \n",
      "0    Male      1992.0      6            4    4    15  \n",
      "1  Female      1992.0      5            3    3    18  \n",
      "2    Male      1981.0      1            2    2     8  \n",
      "3    Male      1986.0      3            0    0    13  \n",
      "4    Male      1975.0      1            1    1    14  \n",
      "Do you wish to see more? for 'yes' enter 'y' and for 'no' enter 'n'.\n",
      "n\n",
      "Thank You!\n",
      "\n",
      "Would you like to see the raw data? for 'yes' enter 'y' and for 'no' enter 'n'.\n",
      "n\n",
      "Exiting...\n",
      "Thanks!!\n",
      "\n",
      "Would you like to restart? Enter yes or no.\n",
      "n\n"
     ]
    }
   ],
   "source": [
    "def main():\n",
    "    while True:\n",
    "        city, month, day = get_filters()\n",
    "        df = load_data(city, month, day)\n",
    "\n",
    "        time_stats(df)\n",
    "        station_stats(df)\n",
    "        trip_duration_stats(df)\n",
    "        user_stats(df, city)\n",
    "        show_raw_data(df)\n",
    "\n",
    "        restart = input('\\nWould you like to restart? Enter yes or no.\\n')\n",
    "        if restart.lower() != 'yes':\n",
    "            break\n",
    "\n",
    "\n",
    "if __name__ == \"__main__\":\n",
    "\tmain()"
   ]
  }
 ],
 "metadata": {
  "kernelspec": {
   "display_name": "Python 3 (ipykernel)",
   "language": "python",
   "name": "python3"
  },
  "language_info": {
   "codemirror_mode": {
    "name": "ipython",
    "version": 3
   },
   "file_extension": ".py",
   "mimetype": "text/x-python",
   "name": "python",
   "nbconvert_exporter": "python",
   "pygments_lexer": "ipython3",
   "version": "3.9.12"
  }
 },
 "nbformat": 4,
 "nbformat_minor": 5
}
